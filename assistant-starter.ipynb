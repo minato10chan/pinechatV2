{
 "cells": [
  {
   "cell_type": "markdown",
   "metadata": {},
   "source": [
    "## Setup"
   ]
  },
  {
   "cell_type": "code",
   "execution_count": null,
   "metadata": {},
   "outputs": [],
   "source": [
    "# Install packages\n",
    "%pip install -qU pinecone-client \\\n",
    "    pinecone-plugin-assistant \\\n",
    "    python-dotenv"
   ]
  },
  {
   "cell_type": "code",
   "execution_count": null,
   "metadata": {},
   "outputs": [],
   "source": [
    "# Load environment variables\n",
    "import os\n",
    "from dotenv import load_dotenv\n",
    "load_dotenv(override=True)\n",
    "\n",
    "api_key = os.getenv(\"PINECONE_API_KEY\")\n",
    "assistant_name = os.getenv(\"PINECONE_ASSISTANT_NAME\")"
   ]
  },
  {
   "cell_type": "markdown",
   "metadata": {},
   "source": [
    "## Setup Pinecone Assistant"
   ]
  },
  {
   "cell_type": "code",
   "execution_count": null,
   "metadata": {},
   "outputs": [],
   "source": [
    "# Connect to Pinecone\n",
    "from pinecone import Pinecone\n",
    "from tqdm.autonotebook import tqdm\n",
    "\n",
    "pc = Pinecone(api_key=api_key)\n",
    "metadata = {}"
   ]
  },
  {
   "cell_type": "markdown",
   "metadata": {},
   "source": [
    "*Optional: set metadata for your assistant by uncommenting and updating the next cell.*"
   ]
  },
  {
   "cell_type": "code",
   "execution_count": null,
   "metadata": {},
   "outputs": [],
   "source": [
    "# metadata = {\"author\": \"Jane Doe\", \"version\": \"1.0\"}"
   ]
  },
  {
   "cell_type": "markdown",
   "metadata": {},
   "source": [
    "### Create Assistant"
   ]
  },
  {
   "cell_type": "code",
   "execution_count": null,
   "metadata": {},
   "outputs": [],
   "source": [
    "assistant = pc.assistant.create_assistant(\n",
    "    assistant_name=assistant_name, \n",
    "    metadata=metadata, \n",
    "    timeout=30 # Wait 30 seconds for assistant operation to complete.\n",
    ")"
   ]
  },
  {
   "cell_type": "code",
   "execution_count": null,
   "metadata": {},
   "outputs": [],
   "source": [
    "import time\n",
    "\n",
    "# Wait for the assistant to be ready\n",
    "status = pc.assistant.list_assistants()[0].status\n",
    "while status != 'Ready':\n",
    "    time.sleep(1)\n",
    "\n",
    "# Print the assistant details\n",
    "pc.assistant.list_assistants()"
   ]
  },
  {
   "cell_type": "markdown",
   "metadata": {},
   "source": [
    "### Upload files\n",
    "\n",
    "To upload multiple files, run the cells in this section multiple times."
   ]
  },
  {
   "cell_type": "code",
   "execution_count": null,
   "metadata": {},
   "outputs": [],
   "source": [
    "import os\n",
    "\n",
    "file_path = input(\"Enter the path to the file you want to upload: \")\n",
    "\n",
    "# Get the file extension\n",
    "_, file_extension = os.path.splitext(file_path)\n",
    "   \n",
    "# Convert the extension to lowercase for case-insensitive comparison\n",
    "file_extension = file_extension.lower()\n",
    "    \n",
    "# Check if the file extension is .pdf or .txt\n",
    "if file_extension not in ['.pdf', '.txt']:\n",
    "    raise ValueError(f\"Invalid file type. Expected .pdf or .txt, but got {file_extension}\")"
   ]
  },
  {
   "cell_type": "code",
   "execution_count": null,
   "metadata": {},
   "outputs": [],
   "source": [
    "import os\n",
    "\n",
    "# Upload file\n",
    "if os.path.exists(file_path):\n",
    "    response = assistant.upload_file(\n",
    "        file_path=file_path,\n",
    "        timeout=None\n",
    "    )\n",
    "    print(f\"Uploaded {file_path}\")\n",
    "    print(\"Response:\", response)\n",
    "else:\n",
    "    print(f\"File not found: {file_path}\")"
   ]
  },
  {
   "cell_type": "code",
   "execution_count": null,
   "metadata": {},
   "outputs": [],
   "source": [
    "# List all uploaded files once they have been processed\n",
    "for file in assistant.list_files():\n",
    "    while file.status != 'Available':\n",
    "        time.sleep(1)\n",
    "    print(file)"
   ]
  },
  {
   "cell_type": "markdown",
   "metadata": {},
   "source": [
    "### Send a test query"
   ]
  },
  {
   "cell_type": "code",
   "execution_count": null,
   "metadata": {},
   "outputs": [],
   "source": [
    "query = input(\"Enter a query to send to your Assistant: \")"
   ]
  },
  {
   "cell_type": "code",
   "execution_count": null,
   "metadata": {},
   "outputs": [],
   "source": [
    "from pinecone_plugins.assistant.models.chat import Message\n",
    "\n",
    "chat_context = [Message(content=query)]\n",
    "response = assistant.chat_completions(messages=chat_context)\n",
    "answer = response['choices'][0]['message']['content']\n",
    "print(answer)"
   ]
  }
 ],
 "metadata": {
  "kernelspec": {
   "display_name": ".venv",
   "language": "python",
   "name": "python3"
  },
  "language_info": {
   "codemirror_mode": {
    "name": "ipython",
    "version": 3
   },
   "file_extension": ".py",
   "mimetype": "text/x-python",
   "name": "python",
   "nbconvert_exporter": "python",
   "pygments_lexer": "ipython3",
   "version": "3.11.6"
  }
 },
 "nbformat": 4,
 "nbformat_minor": 2
}
